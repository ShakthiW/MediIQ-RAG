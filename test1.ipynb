{
 "cells": [
  {
   "cell_type": "code",
   "execution_count": 1,
   "metadata": {},
   "outputs": [
    {
     "data": {
      "text/plain": [
       "True"
      ]
     },
     "execution_count": 1,
     "metadata": {},
     "output_type": "execute_result"
    }
   ],
   "source": [
    "from dotenv import load_dotenv\n",
    "import os\n",
    "\n",
    "load_dotenv()"
   ]
  },
  {
   "cell_type": "code",
   "execution_count": 2,
   "metadata": {},
   "outputs": [],
   "source": [
    "os.environ['OPENAI_API_KEY']=os.getenv(\"OPENAI_API_KEY\")"
   ]
  },
  {
   "cell_type": "code",
   "execution_count": 3,
   "metadata": {},
   "outputs": [],
   "source": [
    "from llama_index.core import VectorStoreIndex, SimpleDirectoryReader\n",
    "\n",
    "documents=SimpleDirectoryReader(\"data\").load_data()"
   ]
  },
  {
   "cell_type": "code",
   "execution_count": 4,
   "metadata": {},
   "outputs": [
    {
     "name": "stderr",
     "output_type": "stream",
     "text": [
      "/Users/shakthiraveen/Desktop/AI-Driven.nosync/RAG-new/venv/lib/python3.10/site-packages/tqdm/auto.py:21: TqdmWarning: IProgress not found. Please update jupyter and ipywidgets. See https://ipywidgets.readthedocs.io/en/stable/user_install.html\n",
      "  from .autonotebook import tqdm as notebook_tqdm\n",
      "Parsing nodes: 100%|██████████| 80/80 [00:00<00:00, 2881.40it/s]\n",
      "Generating embeddings: 100%|██████████| 80/80 [00:03<00:00, 24.77it/s]\n"
     ]
    }
   ],
   "source": [
    "index=VectorStoreIndex.from_documents(documents,show_progress=True)"
   ]
  },
  {
   "cell_type": "code",
   "execution_count": 5,
   "metadata": {},
   "outputs": [
    {
     "data": {
      "text/plain": [
       "<llama_index.core.indices.vector_store.base.VectorStoreIndex at 0x121c60af0>"
      ]
     },
     "execution_count": 5,
     "metadata": {},
     "output_type": "execute_result"
    }
   ],
   "source": [
    "index"
   ]
  },
  {
   "cell_type": "code",
   "execution_count": 6,
   "metadata": {},
   "outputs": [],
   "source": [
    "query_engine=index.as_query_engine()"
   ]
  },
  {
   "cell_type": "code",
   "execution_count": 11,
   "metadata": {},
   "outputs": [],
   "source": [
    "from llama_index.core.retrievers import VectorIndexRetriever\n",
    "from llama_index.core.query_engine import RetrieverQueryEngine\n",
    "from llama_index.core.indices.postprocessor import SimilarityPostprocessor\n",
    "\n",
    "retriever=VectorIndexRetriever(index=index,similarity_top_k=4)\n",
    "postprocessor=SimilarityPostprocessor(similarity_cutoff=0.80)\n",
    "\n",
    "query_engine=RetrieverQueryEngine(retriever=retriever,\n",
    "                                  node_postprocessors=[postprocessor])"
   ]
  },
  {
   "cell_type": "code",
   "execution_count": 13,
   "metadata": {},
   "outputs": [
    {
     "name": "stdout",
     "output_type": "stream",
     "text": [
      "Final Response: Apply direct pressure with a clean, dry cloth until\n",
      "the bleeding subsides. Elevate the area of the cut. If the cut is on\n",
      "your hand or fingers, it is advisable to call your doctor. Monitor the\n",
      "cut over the next 24 to 48 hours for signs of infection such as\n",
      "increasing skin redness, swelling, and pain. If the cut becomes\n",
      "infected, contact your doctor or visit an emergency facility. If the\n",
      "wound is deep or large, or if you are unsure if it needs stitches, it\n",
      "is recommended to see a doctor.\n",
      "______________________________________________________________________\n",
      "Source Node 1/1\n",
      "Node ID: 90aae429-b3b9-4bcc-bc70-f8dfe428fa16\n",
      "Similarity: 0.8025806976861611\n",
      "Text: If the bite is actively bleeding,apply direct pressure with a\n",
      "clean,dry cloth until the bleeding subsides. Elevate the area of the\n",
      "bite. If the bite is on the hand or fingers, call the doctor right\n",
      "away. Over the next 24 to 48 hours, observe the bite for signs of\n",
      "infection (increasing skin redness, swelling, and pain). If the bite\n",
      "becomes infect...\n"
     ]
    }
   ],
   "source": [
    "from llama_index.core.response.pprint_utils import pprint_response\n",
    "\n",
    "response = query_engine.query(\"I cut my finger while cooking what should i do?\")\n",
    "pprint_response(response, show_source=True)\n",
    "#print(response)"
   ]
  },
  {
   "cell_type": "code",
   "execution_count": 18,
   "metadata": {},
   "outputs": [
    {
     "name": "stdout",
     "output_type": "stream",
     "text": [
      "Final Response: Apply direct pressure with a clean, dry cloth until\n",
      "the bleeding subsides. Elevate the area of the bite. If the bite is\n",
      "actively bleeding, wash the wound thoroughly with mild soap and\n",
      "running water for 3 to 5 minutes. Then, cover the bite with antibiotic\n",
      "ointment and a clean dressing. If the bite is on the hand or fingers,\n",
      "it is advisable to call the doctor right away.\n",
      "______________________________________________________________________\n",
      "Source Node 1/2\n",
      "Node ID: 44719a72-539e-4705-9c6d-b4f410f12c70\n",
      "Similarity: 0.8794884551414787\n",
      "Text: If the bite is actively bleeding,apply direct pressure with a\n",
      "clean,dry cloth until the bleeding subsides. Elevate the area of the\n",
      "bite. If the bite is on the hand or fingers, call the doctor right\n",
      "away. Over the next 24 to 48 hours, observe the bite for signs of\n",
      "infection (increasing skin redness, swelling, and pain). If the bite\n",
      "becomes infect...\n",
      "______________________________________________________________________\n",
      "Source Node 2/2\n",
      "Node ID: 65d95ebc-2837-4dfd-9091-1b2e35df366a\n",
      "Similarity: 0.8739128651443685\n",
      "Text: bite with a clean bandage. First Aid: 1. Calm and reassure the\n",
      "person. Wear latex gloves or wash your hands thoroughly before\n",
      "attending to the wound. Wash hands afterwards, too. 2. If the bite is\n",
      "not bleeding severely, wash the wound thoroughly with mild soap and\n",
      "running water for 3 to 5 minutes. Then, cover the bite with antibiotic\n",
      "ointment and...\n"
     ]
    }
   ],
   "source": [
    "import os.path\n",
    "from llama_index.core import (\n",
    "    VectorStoreIndex,\n",
    "    SimpleDirectoryReader,\n",
    "    StorageContext,\n",
    "    load_index_from_storage,\n",
    ")\n",
    "\n",
    "# check if storage already exists\n",
    "PERSIST_DIR = \"./storage\"\n",
    "if not os.path.exists(PERSIST_DIR):\n",
    "    # load the documents and create the index\n",
    "    documents = SimpleDirectoryReader(\"data\").load_data()\n",
    "    index = VectorStoreIndex.from_documents(documents)\n",
    "    # store it for later\n",
    "    index.storage_context.persist(persist_dir=PERSIST_DIR)\n",
    "else:\n",
    "    # load the existing index\n",
    "    storage_context = StorageContext.from_defaults(persist_dir=PERSIST_DIR)\n",
    "    index = load_index_from_storage(storage_context)\n",
    "\n",
    "# either way we can now query the index\n",
    "query_engine = index.as_query_engine()\n",
    "response = query_engine.query(\"I was bitten by a dog and its bleeding now? What first aid should i do step by step?\")\n",
    "pprint_response(response, show_source=True)\n",
    "#print(response)"
   ]
  },
  {
   "cell_type": "code",
   "execution_count": 16,
   "metadata": {},
   "outputs": [
    {
     "name": "stdout",
     "output_type": "stream",
     "text": [
      "Final Response: Apply direct pressure with a clean, dry cloth until\n",
      "the bleeding subsides. Elevate the area of the bite. If the bite is on\n",
      "the hand or fingers, it is advisable to call the doctor right away.\n",
      "______________________________________________________________________\n",
      "Source Node 1/2\n",
      "Node ID: 44719a72-539e-4705-9c6d-b4f410f12c70\n",
      "Similarity: 0.8674305476678599\n",
      "Text: If the bite is actively bleeding,apply direct pressure with a\n",
      "clean,dry cloth until the bleeding subsides. Elevate the area of the\n",
      "bite. If the bite is on the hand or fingers, call the doctor right\n",
      "away. Over the next 24 to 48 hours, observe the bite for signs of\n",
      "infection (increasing skin redness, swelling, and pain). If the bite\n",
      "becomes infect...\n",
      "______________________________________________________________________\n",
      "Source Node 2/2\n",
      "Node ID: 65d95ebc-2837-4dfd-9091-1b2e35df366a\n",
      "Similarity: 0.8562267589189526\n",
      "Text: bite with a clean bandage. First Aid: 1. Calm and reassure the\n",
      "person. Wear latex gloves or wash your hands thoroughly before\n",
      "attending to the wound. Wash hands afterwards, too. 2. If the bite is\n",
      "not bleeding severely, wash the wound thoroughly with mild soap and\n",
      "running water for 3 to 5 minutes. Then, cover the bite with antibiotic\n",
      "ointment and...\n"
     ]
    }
   ],
   "source": [
    "pprint_response(response, show_source=True)"
   ]
  },
  {
   "cell_type": "code",
   "execution_count": null,
   "metadata": {},
   "outputs": [],
   "source": []
  }
 ],
 "metadata": {
  "kernelspec": {
   "display_name": "Python 3",
   "language": "python",
   "name": "python3"
  },
  "language_info": {
   "codemirror_mode": {
    "name": "ipython",
    "version": 3
   },
   "file_extension": ".py",
   "mimetype": "text/x-python",
   "name": "python",
   "nbconvert_exporter": "python",
   "pygments_lexer": "ipython3",
   "version": "3.10.0"
  }
 },
 "nbformat": 4,
 "nbformat_minor": 2
}
